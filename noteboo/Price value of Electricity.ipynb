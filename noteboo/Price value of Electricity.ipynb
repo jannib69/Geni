{
 "cells": [
  {
   "cell_type": "code",
   "id": "initial_id",
   "metadata": {
    "collapsed": true,
    "ExecuteTime": {
     "end_time": "2025-04-13T13:11:23.346526Z",
     "start_time": "2025-04-13T13:11:23.342997Z"
    }
   },
   "source": [
    "import pandas as pd\n",
    "import matplotlib.pyplot as plt"
   ],
   "outputs": [],
   "execution_count": 144
  },
  {
   "metadata": {
    "ExecuteTime": {
     "end_time": "2025-04-13T13:11:24.227485Z",
     "start_time": "2025-04-13T13:11:24.208409Z"
    }
   },
   "cell_type": "code",
   "source": [
    "df = pd.read_csv(\"../data/data_1.csv\", parse_dates=[\"datetime_cet\"], index_col=\"datetime_cet\")\n",
    "df"
   ],
   "id": "83e8d8580bc14ea1",
   "outputs": [
    {
     "data": {
      "text/plain": [
       "                     price  solar  hydro  wind  nuclear  lignite     X\n",
       "datetime_cet                                                          \n",
       "2019-01-01 00:00:00  51.00    0.0   69.0   0.0    694.0    246.0  1144\n",
       "2019-01-01 01:00:00  46.27    0.0  134.0   0.0    695.0    262.0  1087\n",
       "2019-01-01 02:00:00  39.78    0.0   68.0   0.0    695.0    250.0  1016\n",
       "2019-01-01 03:00:00  27.87    0.0   67.0   0.0    694.0    250.0   952\n",
       "2019-01-01 04:00:00  -0.36    0.0   67.0   0.0    694.0    218.0   919\n",
       "...                    ...    ...    ...   ...      ...      ...   ...\n",
       "2019-12-31 19:00:00  46.00    0.0  788.0   1.0    697.0    242.0  1552\n",
       "2019-12-31 20:00:00  42.20    0.0  791.0   1.0    697.0    244.0  1448\n",
       "2019-12-31 21:00:00  39.74    0.0  725.0   1.0    697.0    244.0  1299\n",
       "2019-12-31 22:00:00  38.88    0.0  623.0   1.0    697.0    240.0  1176\n",
       "2019-12-31 23:00:00  37.39    0.0  472.0   0.0    697.0    240.0   975\n",
       "\n",
       "[8760 rows x 7 columns]"
      ],
      "text/html": [
       "<div>\n",
       "<style scoped>\n",
       "    .dataframe tbody tr th:only-of-type {\n",
       "        vertical-align: middle;\n",
       "    }\n",
       "\n",
       "    .dataframe tbody tr th {\n",
       "        vertical-align: top;\n",
       "    }\n",
       "\n",
       "    .dataframe thead th {\n",
       "        text-align: right;\n",
       "    }\n",
       "</style>\n",
       "<table border=\"1\" class=\"dataframe\">\n",
       "  <thead>\n",
       "    <tr style=\"text-align: right;\">\n",
       "      <th></th>\n",
       "      <th>price</th>\n",
       "      <th>solar</th>\n",
       "      <th>hydro</th>\n",
       "      <th>wind</th>\n",
       "      <th>nuclear</th>\n",
       "      <th>lignite</th>\n",
       "      <th>X</th>\n",
       "    </tr>\n",
       "    <tr>\n",
       "      <th>datetime_cet</th>\n",
       "      <th></th>\n",
       "      <th></th>\n",
       "      <th></th>\n",
       "      <th></th>\n",
       "      <th></th>\n",
       "      <th></th>\n",
       "      <th></th>\n",
       "    </tr>\n",
       "  </thead>\n",
       "  <tbody>\n",
       "    <tr>\n",
       "      <th>2019-01-01 00:00:00</th>\n",
       "      <td>51.00</td>\n",
       "      <td>0.0</td>\n",
       "      <td>69.0</td>\n",
       "      <td>0.0</td>\n",
       "      <td>694.0</td>\n",
       "      <td>246.0</td>\n",
       "      <td>1144</td>\n",
       "    </tr>\n",
       "    <tr>\n",
       "      <th>2019-01-01 01:00:00</th>\n",
       "      <td>46.27</td>\n",
       "      <td>0.0</td>\n",
       "      <td>134.0</td>\n",
       "      <td>0.0</td>\n",
       "      <td>695.0</td>\n",
       "      <td>262.0</td>\n",
       "      <td>1087</td>\n",
       "    </tr>\n",
       "    <tr>\n",
       "      <th>2019-01-01 02:00:00</th>\n",
       "      <td>39.78</td>\n",
       "      <td>0.0</td>\n",
       "      <td>68.0</td>\n",
       "      <td>0.0</td>\n",
       "      <td>695.0</td>\n",
       "      <td>250.0</td>\n",
       "      <td>1016</td>\n",
       "    </tr>\n",
       "    <tr>\n",
       "      <th>2019-01-01 03:00:00</th>\n",
       "      <td>27.87</td>\n",
       "      <td>0.0</td>\n",
       "      <td>67.0</td>\n",
       "      <td>0.0</td>\n",
       "      <td>694.0</td>\n",
       "      <td>250.0</td>\n",
       "      <td>952</td>\n",
       "    </tr>\n",
       "    <tr>\n",
       "      <th>2019-01-01 04:00:00</th>\n",
       "      <td>-0.36</td>\n",
       "      <td>0.0</td>\n",
       "      <td>67.0</td>\n",
       "      <td>0.0</td>\n",
       "      <td>694.0</td>\n",
       "      <td>218.0</td>\n",
       "      <td>919</td>\n",
       "    </tr>\n",
       "    <tr>\n",
       "      <th>...</th>\n",
       "      <td>...</td>\n",
       "      <td>...</td>\n",
       "      <td>...</td>\n",
       "      <td>...</td>\n",
       "      <td>...</td>\n",
       "      <td>...</td>\n",
       "      <td>...</td>\n",
       "    </tr>\n",
       "    <tr>\n",
       "      <th>2019-12-31 19:00:00</th>\n",
       "      <td>46.00</td>\n",
       "      <td>0.0</td>\n",
       "      <td>788.0</td>\n",
       "      <td>1.0</td>\n",
       "      <td>697.0</td>\n",
       "      <td>242.0</td>\n",
       "      <td>1552</td>\n",
       "    </tr>\n",
       "    <tr>\n",
       "      <th>2019-12-31 20:00:00</th>\n",
       "      <td>42.20</td>\n",
       "      <td>0.0</td>\n",
       "      <td>791.0</td>\n",
       "      <td>1.0</td>\n",
       "      <td>697.0</td>\n",
       "      <td>244.0</td>\n",
       "      <td>1448</td>\n",
       "    </tr>\n",
       "    <tr>\n",
       "      <th>2019-12-31 21:00:00</th>\n",
       "      <td>39.74</td>\n",
       "      <td>0.0</td>\n",
       "      <td>725.0</td>\n",
       "      <td>1.0</td>\n",
       "      <td>697.0</td>\n",
       "      <td>244.0</td>\n",
       "      <td>1299</td>\n",
       "    </tr>\n",
       "    <tr>\n",
       "      <th>2019-12-31 22:00:00</th>\n",
       "      <td>38.88</td>\n",
       "      <td>0.0</td>\n",
       "      <td>623.0</td>\n",
       "      <td>1.0</td>\n",
       "      <td>697.0</td>\n",
       "      <td>240.0</td>\n",
       "      <td>1176</td>\n",
       "    </tr>\n",
       "    <tr>\n",
       "      <th>2019-12-31 23:00:00</th>\n",
       "      <td>37.39</td>\n",
       "      <td>0.0</td>\n",
       "      <td>472.0</td>\n",
       "      <td>0.0</td>\n",
       "      <td>697.0</td>\n",
       "      <td>240.0</td>\n",
       "      <td>975</td>\n",
       "    </tr>\n",
       "  </tbody>\n",
       "</table>\n",
       "<p>8760 rows × 7 columns</p>\n",
       "</div>"
      ]
     },
     "execution_count": 145,
     "metadata": {},
     "output_type": "execute_result"
    }
   ],
   "execution_count": 145
  },
  {
   "metadata": {
    "ExecuteTime": {
     "end_time": "2025-04-13T13:11:25.788992Z",
     "start_time": "2025-04-13T13:11:25.770655Z"
    }
   },
   "cell_type": "code",
   "source": "df.describe()",
   "id": "86dee6415f003407",
   "outputs": [
    {
     "data": {
      "text/plain": [
       "             price        solar        hydro         wind      nuclear  \\\n",
       "count  8760.000000  8758.000000  8710.000000  8710.000000  8710.000000   \n",
       "mean     48.746122    28.005024   494.752813     0.532262   631.391504   \n",
       "std      18.222853    42.377871   255.251514     0.613362   187.323100   \n",
       "min     -20.230000     0.000000    40.000000     0.000000     0.000000   \n",
       "25%      37.700000     0.000000   286.250000     0.000000   680.000000   \n",
       "50%      46.600000     1.000000   488.000000     0.000000   691.000000   \n",
       "75%      57.440000    45.000000   701.000000     1.000000   696.000000   \n",
       "max     200.020000   422.000000  1016.000000     5.000000   700.000000   \n",
       "\n",
       "           lignite            X  \n",
       "count  8710.000000  8760.000000  \n",
       "mean    458.903674  1009.446233  \n",
       "std     182.483452   291.711605  \n",
       "min       0.000000   480.000000  \n",
       "25%     317.000000   817.000000  \n",
       "50%     467.000000   989.000000  \n",
       "75%     548.000000  1200.000000  \n",
       "max     906.000000  1959.000000  "
      ],
      "text/html": [
       "<div>\n",
       "<style scoped>\n",
       "    .dataframe tbody tr th:only-of-type {\n",
       "        vertical-align: middle;\n",
       "    }\n",
       "\n",
       "    .dataframe tbody tr th {\n",
       "        vertical-align: top;\n",
       "    }\n",
       "\n",
       "    .dataframe thead th {\n",
       "        text-align: right;\n",
       "    }\n",
       "</style>\n",
       "<table border=\"1\" class=\"dataframe\">\n",
       "  <thead>\n",
       "    <tr style=\"text-align: right;\">\n",
       "      <th></th>\n",
       "      <th>price</th>\n",
       "      <th>solar</th>\n",
       "      <th>hydro</th>\n",
       "      <th>wind</th>\n",
       "      <th>nuclear</th>\n",
       "      <th>lignite</th>\n",
       "      <th>X</th>\n",
       "    </tr>\n",
       "  </thead>\n",
       "  <tbody>\n",
       "    <tr>\n",
       "      <th>count</th>\n",
       "      <td>8760.000000</td>\n",
       "      <td>8758.000000</td>\n",
       "      <td>8710.000000</td>\n",
       "      <td>8710.000000</td>\n",
       "      <td>8710.000000</td>\n",
       "      <td>8710.000000</td>\n",
       "      <td>8760.000000</td>\n",
       "    </tr>\n",
       "    <tr>\n",
       "      <th>mean</th>\n",
       "      <td>48.746122</td>\n",
       "      <td>28.005024</td>\n",
       "      <td>494.752813</td>\n",
       "      <td>0.532262</td>\n",
       "      <td>631.391504</td>\n",
       "      <td>458.903674</td>\n",
       "      <td>1009.446233</td>\n",
       "    </tr>\n",
       "    <tr>\n",
       "      <th>std</th>\n",
       "      <td>18.222853</td>\n",
       "      <td>42.377871</td>\n",
       "      <td>255.251514</td>\n",
       "      <td>0.613362</td>\n",
       "      <td>187.323100</td>\n",
       "      <td>182.483452</td>\n",
       "      <td>291.711605</td>\n",
       "    </tr>\n",
       "    <tr>\n",
       "      <th>min</th>\n",
       "      <td>-20.230000</td>\n",
       "      <td>0.000000</td>\n",
       "      <td>40.000000</td>\n",
       "      <td>0.000000</td>\n",
       "      <td>0.000000</td>\n",
       "      <td>0.000000</td>\n",
       "      <td>480.000000</td>\n",
       "    </tr>\n",
       "    <tr>\n",
       "      <th>25%</th>\n",
       "      <td>37.700000</td>\n",
       "      <td>0.000000</td>\n",
       "      <td>286.250000</td>\n",
       "      <td>0.000000</td>\n",
       "      <td>680.000000</td>\n",
       "      <td>317.000000</td>\n",
       "      <td>817.000000</td>\n",
       "    </tr>\n",
       "    <tr>\n",
       "      <th>50%</th>\n",
       "      <td>46.600000</td>\n",
       "      <td>1.000000</td>\n",
       "      <td>488.000000</td>\n",
       "      <td>0.000000</td>\n",
       "      <td>691.000000</td>\n",
       "      <td>467.000000</td>\n",
       "      <td>989.000000</td>\n",
       "    </tr>\n",
       "    <tr>\n",
       "      <th>75%</th>\n",
       "      <td>57.440000</td>\n",
       "      <td>45.000000</td>\n",
       "      <td>701.000000</td>\n",
       "      <td>1.000000</td>\n",
       "      <td>696.000000</td>\n",
       "      <td>548.000000</td>\n",
       "      <td>1200.000000</td>\n",
       "    </tr>\n",
       "    <tr>\n",
       "      <th>max</th>\n",
       "      <td>200.020000</td>\n",
       "      <td>422.000000</td>\n",
       "      <td>1016.000000</td>\n",
       "      <td>5.000000</td>\n",
       "      <td>700.000000</td>\n",
       "      <td>906.000000</td>\n",
       "      <td>1959.000000</td>\n",
       "    </tr>\n",
       "  </tbody>\n",
       "</table>\n",
       "</div>"
      ]
     },
     "execution_count": 146,
     "metadata": {},
     "output_type": "execute_result"
    }
   ],
   "execution_count": 146
  },
  {
   "metadata": {
    "ExecuteTime": {
     "end_time": "2025-04-13T13:11:27.742174Z",
     "start_time": "2025-04-13T13:11:27.737755Z"
    }
   },
   "cell_type": "code",
   "source": "df.isna().sum()",
   "id": "2acdc5e73e652b84",
   "outputs": [
    {
     "data": {
      "text/plain": [
       "price       0\n",
       "solar       2\n",
       "hydro      50\n",
       "wind       50\n",
       "nuclear    50\n",
       "lignite    50\n",
       "X           0\n",
       "dtype: int64"
      ]
     },
     "execution_count": 147,
     "metadata": {},
     "output_type": "execute_result"
    }
   ],
   "execution_count": 147
  },
  {
   "metadata": {
    "ExecuteTime": {
     "end_time": "2025-04-13T13:11:29.412792Z",
     "start_time": "2025-04-13T13:11:29.406770Z"
    }
   },
   "cell_type": "code",
   "source": "df.dtypes",
   "id": "a24a0bff5f16f367",
   "outputs": [
    {
     "data": {
      "text/plain": [
       "price      float64\n",
       "solar      float64\n",
       "hydro      float64\n",
       "wind       float64\n",
       "nuclear    float64\n",
       "lignite    float64\n",
       "X            int64\n",
       "dtype: object"
      ]
     },
     "execution_count": 148,
     "metadata": {},
     "output_type": "execute_result"
    }
   ],
   "execution_count": 148
  },
  {
   "metadata": {
    "ExecuteTime": {
     "end_time": "2025-04-13T07:04:43.498526Z",
     "start_time": "2025-04-13T07:04:43.496164Z"
    }
   },
   "cell_type": "code",
   "source": "df.index.dtype",
   "id": "1f9747b1000536c0",
   "outputs": [
    {
     "data": {
      "text/plain": [
       "dtype('<M8[ns]')"
      ]
     },
     "execution_count": 42,
     "metadata": {},
     "output_type": "execute_result"
    }
   ],
   "execution_count": 42
  },
  {
   "metadata": {},
   "cell_type": "markdown",
   "source": "filtering and creating df peak",
   "id": "5ef5df43fcfbcfad"
  },
  {
   "metadata": {
    "ExecuteTime": {
     "end_time": "2025-04-13T13:11:38.178719Z",
     "start_time": "2025-04-13T13:11:38.160700Z"
    }
   },
   "cell_type": "code",
   "source": [
    "df_peak = df[(df.index.dayofweek <= 4) &\n",
    "             (df.index.hour >= 8) &\n",
    "             (df.index.hour < 20)].copy()\n",
    "df_peak"
   ],
   "id": "b7f35650e721e7ee",
   "outputs": [
    {
     "data": {
      "text/plain": [
       "                     price  solar  hydro  wind  nuclear  lignite     X\n",
       "datetime_cet                                                          \n",
       "2019-01-01 08:00:00   1.53    5.0  189.0   0.0    694.0    221.0  1141\n",
       "2019-01-01 09:00:00   0.41   27.0  183.0   0.0    694.0    220.0  1270\n",
       "2019-01-01 10:00:00  14.34   57.0  208.0   0.0    694.0    217.0  1361\n",
       "2019-01-01 11:00:00  41.03   73.0  234.0   0.0    694.0    239.0  1422\n",
       "2019-01-01 12:00:00  48.97   65.0  208.0   0.0    695.0    240.0  1402\n",
       "...                    ...    ...    ...   ...      ...      ...   ...\n",
       "2019-12-31 15:00:00  39.58   12.0  547.0   1.0    697.0    243.0  1239\n",
       "2019-12-31 16:00:00  42.28    0.0  734.0   1.0    697.0    243.0  1305\n",
       "2019-12-31 17:00:00  46.64    0.0  780.0   1.0    697.0    245.0  1483\n",
       "2019-12-31 18:00:00  47.73    0.0  793.0   1.0    697.0    245.0  1561\n",
       "2019-12-31 19:00:00  46.00    0.0  788.0   1.0    697.0    242.0  1552\n",
       "\n",
       "[3132 rows x 7 columns]"
      ],
      "text/html": [
       "<div>\n",
       "<style scoped>\n",
       "    .dataframe tbody tr th:only-of-type {\n",
       "        vertical-align: middle;\n",
       "    }\n",
       "\n",
       "    .dataframe tbody tr th {\n",
       "        vertical-align: top;\n",
       "    }\n",
       "\n",
       "    .dataframe thead th {\n",
       "        text-align: right;\n",
       "    }\n",
       "</style>\n",
       "<table border=\"1\" class=\"dataframe\">\n",
       "  <thead>\n",
       "    <tr style=\"text-align: right;\">\n",
       "      <th></th>\n",
       "      <th>price</th>\n",
       "      <th>solar</th>\n",
       "      <th>hydro</th>\n",
       "      <th>wind</th>\n",
       "      <th>nuclear</th>\n",
       "      <th>lignite</th>\n",
       "      <th>X</th>\n",
       "    </tr>\n",
       "    <tr>\n",
       "      <th>datetime_cet</th>\n",
       "      <th></th>\n",
       "      <th></th>\n",
       "      <th></th>\n",
       "      <th></th>\n",
       "      <th></th>\n",
       "      <th></th>\n",
       "      <th></th>\n",
       "    </tr>\n",
       "  </thead>\n",
       "  <tbody>\n",
       "    <tr>\n",
       "      <th>2019-01-01 08:00:00</th>\n",
       "      <td>1.53</td>\n",
       "      <td>5.0</td>\n",
       "      <td>189.0</td>\n",
       "      <td>0.0</td>\n",
       "      <td>694.0</td>\n",
       "      <td>221.0</td>\n",
       "      <td>1141</td>\n",
       "    </tr>\n",
       "    <tr>\n",
       "      <th>2019-01-01 09:00:00</th>\n",
       "      <td>0.41</td>\n",
       "      <td>27.0</td>\n",
       "      <td>183.0</td>\n",
       "      <td>0.0</td>\n",
       "      <td>694.0</td>\n",
       "      <td>220.0</td>\n",
       "      <td>1270</td>\n",
       "    </tr>\n",
       "    <tr>\n",
       "      <th>2019-01-01 10:00:00</th>\n",
       "      <td>14.34</td>\n",
       "      <td>57.0</td>\n",
       "      <td>208.0</td>\n",
       "      <td>0.0</td>\n",
       "      <td>694.0</td>\n",
       "      <td>217.0</td>\n",
       "      <td>1361</td>\n",
       "    </tr>\n",
       "    <tr>\n",
       "      <th>2019-01-01 11:00:00</th>\n",
       "      <td>41.03</td>\n",
       "      <td>73.0</td>\n",
       "      <td>234.0</td>\n",
       "      <td>0.0</td>\n",
       "      <td>694.0</td>\n",
       "      <td>239.0</td>\n",
       "      <td>1422</td>\n",
       "    </tr>\n",
       "    <tr>\n",
       "      <th>2019-01-01 12:00:00</th>\n",
       "      <td>48.97</td>\n",
       "      <td>65.0</td>\n",
       "      <td>208.0</td>\n",
       "      <td>0.0</td>\n",
       "      <td>695.0</td>\n",
       "      <td>240.0</td>\n",
       "      <td>1402</td>\n",
       "    </tr>\n",
       "    <tr>\n",
       "      <th>...</th>\n",
       "      <td>...</td>\n",
       "      <td>...</td>\n",
       "      <td>...</td>\n",
       "      <td>...</td>\n",
       "      <td>...</td>\n",
       "      <td>...</td>\n",
       "      <td>...</td>\n",
       "    </tr>\n",
       "    <tr>\n",
       "      <th>2019-12-31 15:00:00</th>\n",
       "      <td>39.58</td>\n",
       "      <td>12.0</td>\n",
       "      <td>547.0</td>\n",
       "      <td>1.0</td>\n",
       "      <td>697.0</td>\n",
       "      <td>243.0</td>\n",
       "      <td>1239</td>\n",
       "    </tr>\n",
       "    <tr>\n",
       "      <th>2019-12-31 16:00:00</th>\n",
       "      <td>42.28</td>\n",
       "      <td>0.0</td>\n",
       "      <td>734.0</td>\n",
       "      <td>1.0</td>\n",
       "      <td>697.0</td>\n",
       "      <td>243.0</td>\n",
       "      <td>1305</td>\n",
       "    </tr>\n",
       "    <tr>\n",
       "      <th>2019-12-31 17:00:00</th>\n",
       "      <td>46.64</td>\n",
       "      <td>0.0</td>\n",
       "      <td>780.0</td>\n",
       "      <td>1.0</td>\n",
       "      <td>697.0</td>\n",
       "      <td>245.0</td>\n",
       "      <td>1483</td>\n",
       "    </tr>\n",
       "    <tr>\n",
       "      <th>2019-12-31 18:00:00</th>\n",
       "      <td>47.73</td>\n",
       "      <td>0.0</td>\n",
       "      <td>793.0</td>\n",
       "      <td>1.0</td>\n",
       "      <td>697.0</td>\n",
       "      <td>245.0</td>\n",
       "      <td>1561</td>\n",
       "    </tr>\n",
       "    <tr>\n",
       "      <th>2019-12-31 19:00:00</th>\n",
       "      <td>46.00</td>\n",
       "      <td>0.0</td>\n",
       "      <td>788.0</td>\n",
       "      <td>1.0</td>\n",
       "      <td>697.0</td>\n",
       "      <td>242.0</td>\n",
       "      <td>1552</td>\n",
       "    </tr>\n",
       "  </tbody>\n",
       "</table>\n",
       "<p>3132 rows × 7 columns</p>\n",
       "</div>"
      ]
     },
     "execution_count": 149,
     "metadata": {},
     "output_type": "execute_result"
    }
   ],
   "execution_count": 149
  },
  {
   "metadata": {},
   "cell_type": "markdown",
   "source": [
    "### What’s the price value of\n",
    "\n",
    "#### a) baseload product for the whole year 2019 in €/MWh?"
   ],
   "id": "bf364016b6d6b4fc"
  },
  {
   "metadata": {
    "ExecuteTime": {
     "end_time": "2025-04-13T07:57:22.887036Z",
     "start_time": "2025-04-13T07:57:22.881557Z"
    }
   },
   "cell_type": "code",
   "source": "print(f\"Baseload product avg hourly price for 2019: {df[df.index.year == 2019].price.mean():.2f} €/MWh\")",
   "id": "1426fecba9b404c7",
   "outputs": [
    {
     "name": "stdout",
     "output_type": "stream",
     "text": [
      "Baseload product avg price for 2019: 48.75 €/MWh\n"
     ]
    }
   ],
   "execution_count": 118
  },
  {
   "metadata": {},
   "cell_type": "markdown",
   "source": "#### What about the value of individual months throughout the 2019 be?",
   "id": "b5eed7ca56244d3c"
  },
  {
   "metadata": {
    "ExecuteTime": {
     "end_time": "2025-04-13T07:59:00.876795Z",
     "start_time": "2025-04-13T07:59:00.852458Z"
    }
   },
   "cell_type": "code",
   "source": [
    "monthly = df[df.index.year == 2019].groupby(df.index.month).price.mean()\n",
    "monthly.index = pd.to_datetime(monthly.index, format=\"%m\").month_name()\n",
    "monthly"
   ],
   "id": "392b24f12f31236",
   "outputs": [
    {
     "data": {
      "text/plain": [
       "datetime_cet\n",
       "January      68.764946\n",
       "February     49.704524\n",
       "March        39.585491\n",
       "April        45.614597\n",
       "May          41.317473\n",
       "June         39.970778\n",
       "July         51.245188\n",
       "August       54.588481\n",
       "September    55.334889\n",
       "October      55.216658\n",
       "November     43.839569\n",
       "December     39.512782\n",
       "Name: price, dtype: float64"
      ]
     },
     "execution_count": 125,
     "metadata": {},
     "output_type": "execute_result"
    }
   ],
   "execution_count": 125
  },
  {
   "metadata": {
    "ExecuteTime": {
     "end_time": "2025-04-13T07:57:33.623033Z",
     "start_time": "2025-04-13T07:57:33.547373Z"
    }
   },
   "cell_type": "code",
   "source": [
    "monthly.plot(kind=\"bar\", title=\"Monthly baseload price 2019\", ylabel=\"€/MWh\", xlabel=\"Month\")\n",
    "plt.tight_layout()\n",
    "plt.show()"
   ],
   "id": "3d2e44bfede5fdb8",
   "outputs": [
    {
     "data": {
      "text/plain": [
       "<Figure size 640x480 with 1 Axes>"
      ],
      "image/png": "[encoded data removed]"
     },
     "metadata": {},
     "output_type": "display_data"
    }
   ],
   "execution_count": 120
  },
  {
   "metadata": {},
   "cell_type": "markdown",
   "source": "#### Calculate the price value of individual monthly peakload products for year 2019.",
   "id": "b031a546c3d19d97"
  },
  {
   "metadata": {
    "ExecuteTime": {
     "end_time": "2025-04-13T07:57:36.678875Z",
     "start_time": "2025-04-13T07:57:36.671048Z"
    }
   },
   "cell_type": "code",
   "source": [
    "monthly_peak = df_peak[df_peak.index.year == 2019].groupby(df_peak.index.month).price.mean()\n",
    "monthly_peak.index = pd.to_datetime(monthly_peak.index, format=\"%m\").month_name()\n",
    "monthly_peak"
   ],
   "id": "180dd3d2f723ee69",
   "outputs": [
    {
     "data": {
      "text/plain": [
       "datetime_cet\n",
       "January      81.604638\n",
       "February     58.295583\n",
       "March        47.948611\n",
       "April        53.210909\n",
       "May          47.296341\n",
       "June         49.836292\n",
       "July         60.180036\n",
       "August       69.953561\n",
       "September    66.917103\n",
       "October      67.110072\n",
       "November     54.577698\n",
       "December     48.133939\n",
       "Name: price, dtype: float64"
      ]
     },
     "execution_count": 121,
     "metadata": {},
     "output_type": "execute_result"
    }
   ],
   "execution_count": 121
  },
  {
   "metadata": {
    "ExecuteTime": {
     "end_time": "2025-04-13T07:57:52.282222Z",
     "start_time": "2025-04-13T07:57:52.201046Z"
    }
   },
   "cell_type": "code",
   "source": [
    "monthly_peak.plot(kind=\"bar\", title=\"Monthly peakload price 2019\", ylabel=\"€/MWh\", xlabel=\"Month\")\n",
    "plt.tight_layout()\n",
    "plt.show()"
   ],
   "id": "41ece0f95f983b82",
   "outputs": [
    {
     "data": {
      "text/plain": [
       "<Figure size 640x480 with 1 Axes>"
      ],
      "image/png": "[encoded data removed]"
     },
     "metadata": {},
     "output_type": "display_data"
    }
   ],
   "execution_count": 123
  },
  {
   "metadata": {},
   "cell_type": "markdown",
   "source": [
    "### How much of electricity in\n",
    "\n",
    "#### c) MWh was produced by individual power plants in 2019 in Slovenia."
   ],
   "id": "72dd63479ed25169"
  },
  {
   "metadata": {
    "ExecuteTime": {
     "end_time": "2025-04-13T07:35:47.112195Z",
     "start_time": "2025-04-13T07:35:47.101544Z"
    }
   },
   "cell_type": "code",
   "source": "df.columns",
   "id": "f66ba7853c809fee",
   "outputs": [
    {
     "data": {
      "text/plain": [
       "Index(['price', 'solar', 'hydro', 'wind', 'nuclear', 'lignite', 'X'], dtype='object')"
      ]
     },
     "execution_count": 76,
     "metadata": {},
     "output_type": "execute_result"
    }
   ],
   "execution_count": 76
  },
  {
   "metadata": {
    "ExecuteTime": {
     "end_time": "2025-04-13T08:01:43.539390Z",
     "start_time": "2025-04-13T08:01:43.527465Z"
    }
   },
   "cell_type": "code",
   "source": [
    "production_by_plants = df.loc[df.index.year == 2019, ['solar', 'hydro', 'wind', 'nuclear', 'lignite']].sum()\n",
    "production_by_plants"
   ],
   "id": "350c9df6477c5832",
   "outputs": [
    {
     "data": {
      "text/plain": [
       "solar       245268.0\n",
       "hydro      4309297.0\n",
       "wind          4636.0\n",
       "nuclear    5499420.0\n",
       "lignite    3997051.0\n",
       "dtype: float64"
      ]
     },
     "execution_count": 128,
     "metadata": {},
     "output_type": "execute_result"
    }
   ],
   "execution_count": 128
  },
  {
   "metadata": {
    "ExecuteTime": {
     "end_time": "2025-04-13T08:03:18.535136Z",
     "start_time": "2025-04-13T08:03:18.466708Z"
    }
   },
   "cell_type": "code",
   "source": [
    "production_by_plants.plot(kind=\"bar\", title=\"Total production of plants in 2019\", ylabel=\"MWh\")\n",
    "plt.tight_layout()\n",
    "plt.show()"
   ],
   "id": "12b856d30e7a5d4b",
   "outputs": [
    {
     "data": {
      "text/plain": [
       "<Figure size 640x480 with 1 Axes>"
      ],
      "image/png": "[encoded data removed]"
     },
     "metadata": {},
     "output_type": "display_data"
    }
   ],
   "execution_count": 133
  },
  {
   "metadata": {},
   "cell_type": "markdown",
   "source": "#### What was the total consumption of Consumer X in MWh?",
   "id": "51da107a5bc2fef2"
  },
  {
   "metadata": {
    "ExecuteTime": {
     "end_time": "2025-04-13T08:09:24.876102Z",
     "start_time": "2025-04-13T08:09:24.871121Z"
    }
   },
   "cell_type": "code",
   "source": "print(f\"Total consumption of consumer X in MWh for year 2019 was {(df.loc[df.index.year == 2019, ['X']].sum().item() / 1000):.2f} [MWh]\")",
   "id": "d9f36baf15d76be6",
   "outputs": [
    {
     "name": "stdout",
     "output_type": "stream",
     "text": [
      "Total consumption of consumer X in MWh for year 2019 was 8842.75 [MWh]\n"
     ]
    }
   ],
   "execution_count": 142
  },
  {
   "metadata": {},
   "cell_type": "markdown",
   "source": [
    "### Calculate the\n",
    "\n",
    "#### d) average value of power produced by power plant type in 2019."
   ],
   "id": "5898f9ad88f8ec65"
  },
  {
   "metadata": {
    "ExecuteTime": {
     "end_time": "2025-04-13T08:06:34.285962Z",
     "start_time": "2025-04-13T08:06:34.273539Z"
    }
   },
   "cell_type": "code",
   "source": [
    "avg_production_by_plants = df.loc[df.index.year == 2019, ['solar', 'hydro', 'wind', 'nuclear', 'lignite']].mean()\n",
    "avg_production_by_plants"
   ],
   "id": "c3bb177e24f7a3bf",
   "outputs": [
    {
     "data": {
      "text/plain": [
       "solar       28.005024\n",
       "hydro      494.752813\n",
       "wind         0.532262\n",
       "nuclear    631.391504\n",
       "lignite    458.903674\n",
       "dtype: float64"
      ]
     },
     "execution_count": 137,
     "metadata": {},
     "output_type": "execute_result"
    }
   ],
   "execution_count": 137
  },
  {
   "metadata": {
    "ExecuteTime": {
     "end_time": "2025-04-13T08:09:08.556615Z",
     "start_time": "2025-04-13T08:09:08.497861Z"
    }
   },
   "cell_type": "code",
   "source": [
    "avg_production_by_plants.plot(kind=\"bar\", title=\"Average hourly production of plants in 2019\", ylabel=\"MWh\")\n",
    "plt.tight_layout()\n",
    "plt.show()"
   ],
   "id": "f9e5eb829d178d3a",
   "outputs": [
    {
     "data": {
      "text/plain": [
       "<Figure size 640x480 with 1 Axes>"
      ],
      "image/png": "[encoded data removed]"
     },
     "metadata": {},
     "output_type": "display_data"
    }
   ],
   "execution_count": 141
  },
  {
   "metadata": {},
   "cell_type": "markdown",
   "source": "####  What is average value of power consumed by the consumer X?",
   "id": "ef922475ec7519c0"
  },
  {
   "metadata": {
    "ExecuteTime": {
     "end_time": "2025-04-13T08:08:43.658945Z",
     "start_time": "2025-04-13T08:08:43.644715Z"
    }
   },
   "cell_type": "code",
   "source": "print(f\"Average hourly consumption of consumer X in MWh for year 2019 was {(df.loc[df.index.year == 2019, ['X']].mean().item() / 1000):.2f} [MWh]\")",
   "id": "2e1895a80d7a8afe",
   "outputs": [
    {
     "name": "stdout",
     "output_type": "stream",
     "text": [
      "Average Hourly consumption of consumer X in MWh for year 2019 was 1.01 [MWh]\n"
     ]
    }
   ],
   "execution_count": 140
  }
 ],
 "metadata": {
  "kernelspec": {
   "display_name": "Python 3",
   "language": "python",
   "name": "python3"
  },
  "language_info": {
   "codemirror_mode": {
    "name": "ipython",
    "version": 2
   },
   "file_extension": ".py",
   "mimetype": "text/x-python",
   "name": "python",
   "nbconvert_exporter": "python",
   "pygments_lexer": "ipython2",
   "version": "2.7.6"
  }
 },
 "nbformat": 4,
 "nbformat_minor": 5
}
